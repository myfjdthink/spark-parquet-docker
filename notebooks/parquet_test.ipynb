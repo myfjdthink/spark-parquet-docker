{
 "cells": [
  {
   "cell_type": "markdown",
   "id": "1041ae6f",
   "metadata": {},
   "source": [
    "![iceberg-logo](https://www.apache.org/logos/res/iceberg/iceberg.png)"
   ]
  },
  {
   "cell_type": "markdown",
   "id": "247fb2ab",
   "metadata": {},
   "source": [
    "### [Docker, Spark, and Iceberg: The Fastest Way to Try Iceberg!](https://tabular.io/blog/docker-spark-and-iceberg/)"
   ]
  },
  {
   "cell_type": "code",
   "execution_count": 20,
   "id": "6a5c8206",
   "metadata": {},
   "outputs": [
    {
     "data": {
      "text/html": [
       "\n",
       "            <div>\n",
       "                <p><b>SparkSession - hive</b></p>\n",
       "                \n",
       "        <div>\n",
       "            <p><b>SparkContext</b></p>\n",
       "\n",
       "            <p><a href=\"http://4c1177ab3660:4041\">Spark UI</a></p>\n",
       "\n",
       "            <dl>\n",
       "              <dt>Version</dt>\n",
       "                <dd><code>v3.3.4</code></dd>\n",
       "              <dt>Master</dt>\n",
       "                <dd><code>local[*]</code></dd>\n",
       "              <dt>AppName</dt>\n",
       "                <dd><code>PySparkShell</code></dd>\n",
       "            </dl>\n",
       "        </div>\n",
       "        \n",
       "            </div>\n",
       "        "
      ],
      "text/plain": [
       "<pyspark.sql.session.SparkSession at 0x7f921454cbb0>"
      ]
     },
     "execution_count": 20,
     "metadata": {},
     "output_type": "execute_result"
    }
   ],
   "source": [
    "from pyspark.sql import SparkSession\n",
    "spark = SparkSession.builder.appName(\"Jupyter\").getOrCreate()\n",
    "\n",
    "spark"
   ]
  },
  {
   "cell_type": "code",
   "execution_count": 21,
   "id": "9fddb808",
   "metadata": {},
   "outputs": [],
   "source": [
    "df = spark.read.parquet(\"/home/iceberg/warehouse/traces/block_date=2023-11-15/20231220_085518_13207_seu4n_6dfa4a96-aec1-4f72-ab1d-851cf2fc04fc\")"
   ]
  },
  {
   "cell_type": "code",
   "execution_count": 22,
   "id": "dabc8f58-4be3-4ae7-b38c-c903db98604b",
   "metadata": {},
   "outputs": [
    {
     "data": {
      "text/plain": [
       "7372"
      ]
     },
     "execution_count": 22,
     "metadata": {},
     "output_type": "execute_result"
    }
   ],
   "source": [
    "df.count()"
   ]
  },
  {
   "cell_type": "code",
   "execution_count": 23,
   "id": "b69bf32b-54f7-4932-bf84-ae7a4a0bcc39",
   "metadata": {},
   "outputs": [],
   "source": [
    "dfall = spark.read.parquet(\"/home/iceberg/warehouse/traces/\")"
   ]
  },
  {
   "cell_type": "code",
   "execution_count": 24,
   "id": "dd1933fa-8f5a-4162-977b-e5b91970e137",
   "metadata": {},
   "outputs": [
    {
     "data": {
      "text/plain": [
       "11879238"
      ]
     },
     "execution_count": 24,
     "metadata": {},
     "output_type": "execute_result"
    }
   ],
   "source": [
    "dfall.count()"
   ]
  },
  {
   "cell_type": "code",
   "execution_count": 25,
   "id": "6dfc5412-2fbd-423b-b866-4b4cac13cfb9",
   "metadata": {},
   "outputs": [],
   "source": [
    "dfall.createOrReplaceTempView('traces')"
   ]
  },
  {
   "cell_type": "code",
   "execution_count": 26,
   "id": "170a4630-d334-45d2-ba24-42c8ca18af30",
   "metadata": {},
   "outputs": [],
   "source": [
    "res_df = spark.sql('''\n",
    "select * from traces where block_date = '2023-11-15'\n",
    "''')"
   ]
  },
  {
   "cell_type": "code",
   "execution_count": 27,
   "id": "a416f736-d55a-438a-b846-b926bcca3c1f",
   "metadata": {},
   "outputs": [
    {
     "data": {
      "text/plain": [
       "5891425"
      ]
     },
     "execution_count": 27,
     "metadata": {},
     "output_type": "execute_result"
    }
   ],
   "source": [
    "res_df.count()"
   ]
  }
 ],
 "metadata": {
  "kernelspec": {
   "display_name": "Python 3 (ipykernel)",
   "language": "python",
   "name": "python3"
  },
  "language_info": {
   "codemirror_mode": {
    "name": "ipython",
    "version": 3
   },
   "file_extension": ".py",
   "mimetype": "text/x-python",
   "name": "python",
   "nbconvert_exporter": "python",
   "pygments_lexer": "ipython3",
   "version": "3.9.18"
  }
 },
 "nbformat": 4,
 "nbformat_minor": 5
}
